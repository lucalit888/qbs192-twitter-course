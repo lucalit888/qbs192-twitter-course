{
 "cells": [
  {
   "cell_type": "markdown",
   "metadata": {},
   "source": [
    "# Twitter API Scraping Course\n",
    "\n",
    "In this notebook, we'll explore how to use the Tweepy library to interact with the Twitter API. You will learn how to scrape tweets, analyze Twitter accounts, and work with the data in Python."
   ]
  },
  {
   "cell_type": "code",
   "execution_count": null,
   "metadata": {},
   "outputs": [],
   "source": [
    "# Install necessary libraries if you haven't yet\n",
    "!poetry install"
   ]
  },
  {
   "cell_type": "markdown",
   "metadata": {},
   "source": [
    "## 1. Tweepy Setup\n",
    "\n",
    "First, we'll set up the Tweepy client using your Twitter API credentials. Make sure you have the `consumer_key`, `consumer_secret`, `access_token`, `access_token_secret`, and `bearer_token` available."
   ]
  },
  {
   "cell_type": "code",
   "execution_count": null,
   "metadata": {},
   "outputs": [],
   "source": [
    "import tweepy\n\n# Replace these with your credentials\nconsumer_key = \"your_consumer_key\"\nconsumer_secret = \"your_consumer_secret\"\nbearer_token = \"your_bearer_token\"\naccess_token = \"your_access_token\"\naccess_token_secret = \"your_access_token_secret\"\n\nclient = tweepy.Client(\n    consumer_key = consumer_key,\n    consumer_secret = consumer_secret,\n    access_token = access_token,\n    access_token_secret = access_token_secret,\n    bearer_token = bearer_token\n)\n\nclient"
   ]
  },
  {
   "cell_type": "markdown",
   "metadata": {},
   "source": [
    "## 2. Fetching User Information\n",
    "\n",
    "Let's try fetching the details of a Twitter account."
   ]
  },
  {
   "cell_type": "code",
   "execution_count": null,
   "metadata": {},
   "outputs": [],
   "source": [
    "account_name = \"CDCgov\"\n\ntry: \n    user = client.get_user(username=account_name)\n    print(user)\nexcept:\n    print(\"Failed to get account\")"
   ]
  },
  {
   "cell_type": "markdown",
   "metadata": {},
   "source": [
    "## 3. Scraping Tweets from a User\n",
    "\n",
    "Let's now fetch the tweets from a specific user. For this example, we'll get the tweets from `CDCgov`."
   ]
  },
  {
   "cell_type": "code",
   "execution_count": null,
   "metadata": {},
   "outputs": [],
   "source": [
    "CDC_ID = user.data.id\nimport pandas as pd\npd.set_option('display.max_colwidth', None)\n\ntweets = client.get_users_tweets(id=CDC_ID).data\ndf = pd.DataFrame(tweets)\n\ndf"
   ]
  },
  {
   "cell_type": "markdown",
   "metadata": {},
   "source": [
    "## 4. Searching Tweets Based on a Query\n",
    "\n",
    "Use the Twitter API to search for tweets mentioning `Pfizer`, `Novavax`, or `Moderna`."
   ]
  },
  {
   "cell_type": "code",
   "execution_count": null,
   "metadata": {},
   "outputs": [],
   "source": [
    "query = \"(Pfizer OR Novavax OR Moderna OR pfizer OR novavax OR moderna) -is:retweet lang:en\"\n\nbox_of_tweets = tweepy.Paginator(\n    method=client.search_recent_tweets,\n    query=query,\n    tweet_fields=[\"id\",\"author_id\",\"created_at\",\"text\"],\n    expansions=\"author_id\",\n    max_results=100,\n    limit=3\n)\n\nbox_of_tweets"
   ]
  }
 ]
}
