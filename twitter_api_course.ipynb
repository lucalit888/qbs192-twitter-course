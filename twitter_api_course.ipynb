{
 "cells": [
  {
   "cell_type": "markdown",
   "metadata": {},
   "source": [
    "# Twitter API Scraping Course\n",
    "\n",
    "In this notebook, we'll explore how to use the Tweepy library to interact with the Twitter API. You will learn how to scrape tweets, analyze Twitter accounts, and work with the data in Python.\n",
    "\n",
    "### Note:\n",
    "\n",
    "Please do not re-run API calls excessively (run each cell only once if possible). As we will all be sharing the same credentials/account, all of us are using the same [quota limits](https://developer.x.com/en/docs/x-api/rate-limits#v2-limits-basic), which can quickly be exhausted if not managed carefully."
   ]
  },
  {
   "cell_type": "markdown",
   "metadata": {},
   "source": [
    "## 1. Tweepy Setup\n",
    "\n",
    "First, we'll set up the Tweepy client using our Twitter API credentials. Make sure you have the `consumer_key`, `consumer_secret`, `access_token`, `access_token_secret`, and `bearer_token` available."
   ]
  },
  {
   "cell_type": "code",
   "execution_count": null,
   "metadata": {},
   "outputs": [],
   "source": [
    "import tweepy\n",
    "\n",
    "\n",
    "# Replace these with your credentials\n",
    "consumer_key = \"your consumer key\"\n",
    "consumer_secret = \"your consumer secret\"\n",
    "bearer_token = \"your bearer token\"\n",
    "access_token = \"your access token\"\n",
    "access_token_secret = \"your access token secret\"\n",
    "\n",
    "client = tweepy.Client(\n",
    "    consumer_key = consumer_key,\n",
    "    consumer_secret = consumer_secret,\n",
    "    access_token = access_token,\n",
    "    access_token_secret = access_token_secret,\n",
    "    bearer_token = bearer_token\n",
    ")\n",
    "\n",
    "client"
   ]
  },
  {
   "cell_type": "markdown",
   "metadata": {},
   "source": [
    "Let's try to fetch our own profile, to make sure we're authenticated, and our requests are going through the API! "
   ]
  },
  {
   "cell_type": "code",
   "execution_count": null,
   "metadata": {},
   "outputs": [],
   "source": [
    "try:\n",
    "    user = client.get_me()\n",
    "    print(user)\n",
    "except:\n",
    "    print(\"Ahh! Error! I can't authenticate\")"
   ]
  }
 ],
 "metadata": {
  "kernelspec": {
   "display_name": ".venv",
   "language": "python",
   "name": "python3"
  },
  "language_info": {
   "name": "python",
   "version": "3.11.5"
  }
 },
 "nbformat": 4,
 "nbformat_minor": 2
}
